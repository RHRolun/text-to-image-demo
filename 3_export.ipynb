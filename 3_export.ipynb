{
 "cells": [
  {
   "cell_type": "markdown",
   "source": [
    "# Export to ONNX"
   ],
   "metadata": {
    "collapsed": false
   },
   "id": "4c75ceb96a381965"
  },
  {
   "cell_type": "code",
   "execution_count": null,
   "outputs": [],
   "source": [
    "!pip install -q --upgrade accelerate transformers ftfy natsort\n",
    "!pip install -q git+https://github.com/huggingface/diffusers\n",
    "!pip install optimum[\"onnxruntime\"]\n",
    "# !wget https://rhods-public.s3.amazonaws.com/src/xformers-0.0.21.dev584-cp39-cp39-manylinux2014_x86_64.whl -O xformers-0.0.21.dev584-cp39-cp39-manylinux2014_x86_64.whl\n",
    "# !pip install xformers-0.0.21.dev584-cp39-cp39-manylinux2014_x86_64.whl"
   ],
   "metadata": {
    "collapsed": false
   },
   "id": "2d9f36236bfaaca8"
  },
  {
   "cell_type": "code",
   "execution_count": null,
   "id": "ab990857-b761-4d3c-b20f-d1f3a743bdaa",
   "metadata": {},
   "outputs": [],
   "source": [
    "!wget -O convert_stable_diffusion_checkpoint_to_onnx.py https://raw.githubusercontent.com/huggingface/diffusers/main/scripts/convert_stable_diffusion_checkpoint_to_onnx.py"
   ]
  },
  {
   "cell_type": "code",
   "execution_count": null,
   "id": "bcf5a9f8-d5f5-4b83-a229-132aefafb489",
   "metadata": {},
   "outputs": [],
   "source": [
    "import os\n",
    "\n",
    "VERSION = \"custom\"\n",
    "OUTPUT_DIR = os.path.join(os.getcwd(), f\"{VERSION}/weights/redhat-dog\")\n",
    "ONNX_OUTPUT_DIR = os.path.join(os.getcwd(), f\"{VERSION}/onnx-redhat-dog\")"
   ]
  },
  {
   "cell_type": "code",
   "execution_count": null,
   "id": "1ca5c735-cf04-4dd5-b5b1-9221e316d710",
   "metadata": {},
   "outputs": [],
   "source": [
    "from natsort import natsorted\n",
    "from glob import glob\n",
    "import os\n",
    "\n",
    "WEIGHTS_DIR = natsorted(glob(OUTPUT_DIR + os.sep + \"*\"))[-1]\n",
    "print(f\"[*] OUTPUT_DIR={OUTPUT_DIR}\")\n",
    "print(f\"[*] WEIGHTS_DIR={WEIGHTS_DIR}\")\n"
   ]
  },
  {
   "cell_type": "code",
   "execution_count": null,
   "id": "f21fa3ea-86ef-44b4-9822-af76b5701532",
   "metadata": {},
   "outputs": [],
   "source": [
    "from optimum.onnxruntime import ORTStableDiffusionPipeline\n",
    "import torch\n",
    "\n",
    "# model_id = \"runwayml/stable-diffusion-v1-5\"\n",
    "# device = torch.device(\"cuda\" if torch.cuda.is_available() else \"cpu\")\n",
    "# pipe = ORTStableDiffusionPipeline.from_pretrained(model_path, safety_checker=None, torch_dtype=torch.float16).to(device)\n",
    "# g_cuda = torch.Generator(device=device)\n",
    "# g_cuda.seed()\n",
    "\n",
    "model_id = WEIGHTS_DIR\n",
    "pipeline = ORTStableDiffusionPipeline.from_pretrained(model_id, export=True)\n",
    "prompt = \"photo of a rhteddy dog\"\n",
    "image = pipeline(prompt).images[0]\n",
    "pipeline.save_pretrained(ONNX_OUTPUT_DIR)\n",
    "image"
   ]
  },
  {
   "cell_type": "markdown",
   "id": "db2ec3ba-edf0-415f-9ca3-2be6fab7651d",
   "metadata": {},
   "source": [
    "### Save to S3"
   ]
  },
  {
   "cell_type": "code",
   "execution_count": null,
   "id": "9ac5f649-ea80-4c6e-8a46-d6f7108083bf",
   "metadata": {},
   "outputs": [],
   "source": [
    "import os\n",
    "import boto3\n",
    "import botocore\n",
    "\n",
    "aws_access_key_id = os.environ.get('AWS_ACCESS_KEY_ID')\n",
    "aws_secret_access_key = os.environ.get('AWS_SECRET_ACCESS_KEY')\n",
    "endpoint_url = os.environ.get('AWS_S3_ENDPOINT')\n",
    "region_name = os.environ.get('AWS_DEFAULT_REGION')\n",
    "bucket_name = os.environ.get('AWS_S3_BUCKET')\n",
    "\n",
    "session = boto3.session.Session(aws_access_key_id=aws_access_key_id,\n",
    "                                aws_secret_access_key=aws_secret_access_key)\n",
    "\n",
    "s3_resource = session.resource(\n",
    "    's3',\n",
    "    config=botocore.client.Config(signature_version='s3v4'),\n",
    "    endpoint_url=endpoint_url,\n",
    "    region_name=region_name)\n",
    "\n",
    "bucket = s3_resource.Bucket(bucket_name)\n",
    "\n",
    "\n",
    "def upload_directory_to_s3(local_directory, s3_prefix):\n",
    "    s3 = boto3.client('s3')\n",
    "    for root, dirs, files in os.walk(local_directory):\n",
    "        for filename in files:\n",
    "            file_path = os.path.join(root, filename)\n",
    "            relative_path = os.path.relpath(file_path, local_directory)\n",
    "            s3_key = os.path.join(s3_prefix, relative_path)\n",
    "            print(f\"{file_path} -> {s3_key}\")\n",
    "            bucket.upload_file(file_path, s3_key)\n",
    "\n",
    "upload_directory_to_s3(ONNX_OUTPUT_DIR, f\"text-to-image/{VERSION}/onnx-redhat-dog\")"
   ]
  },
  {
   "cell_type": "code",
   "execution_count": null,
   "id": "84cf8eaa-e14d-4e08-9334-a4b4a64887cb",
   "metadata": {},
   "outputs": [],
   "source": []
  }
 ],
 "metadata": {
  "kernelspec": {
   "display_name": "Python 3.9.16",
   "language": "python",
   "name": "python3"
  },
  "language_info": {
   "codemirror_mode": {
    "name": "ipython",
    "version": 3
   },
   "file_extension": ".py",
   "mimetype": "text/x-python",
   "name": "python",
   "nbconvert_exporter": "python",
   "pygments_lexer": "ipython3",
   "version": "3.9.16"
  }
 },
 "nbformat": 4,
 "nbformat_minor": 5
}
